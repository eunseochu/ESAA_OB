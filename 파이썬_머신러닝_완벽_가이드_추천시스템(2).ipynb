{
  "nbformat": 4,
  "nbformat_minor": 0,
  "metadata": {
    "colab": {
      "provenance": [],
      "authorship_tag": "ABX9TyPkTHYy8ArXZJrT9m6X5tpK",
      "include_colab_link": true
    },
    "kernelspec": {
      "name": "python3",
      "display_name": "Python 3"
    },
    "language_info": {
      "name": "python"
    }
  },
  "cells": [
    {
      "cell_type": "markdown",
      "metadata": {
        "id": "view-in-github",
        "colab_type": "text"
      },
      "source": [
        "<a href=\"https://colab.research.google.com/github/eunseochu/OB_10th/blob/main/%ED%8C%8C%EC%9D%B4%EC%8D%AC_%EB%A8%B8%EC%8B%A0%EB%9F%AC%EB%8B%9D_%EC%99%84%EB%B2%BD_%EA%B0%80%EC%9D%B4%EB%93%9C_%EC%B6%94%EC%B2%9C%EC%8B%9C%EC%8A%A4%ED%85%9C(2).ipynb\" target=\"_parent\"><img src=\"https://colab.research.google.com/assets/colab-badge.svg\" alt=\"Open In Colab\"/></a>"
      ]
    },
    {
      "cell_type": "markdown",
      "source": [
        "### **5) 콘텐츠 기반 필터링 실습 - TMDB 5000 영화 데이터 세트**"
      ],
      "metadata": {
        "id": "ZmORA83IYH4C"
      }
    },
    {
      "cell_type": "markdown",
      "source": [
        "**TMDB 5000 영화 데이터 세트** <br/>\n",
        "유명한 영화 데이터 정보 사이트의 많은 영화 중 5000개의 영화에 대한 메타 정보를 새롭게 가공해 제공하는 데이터 세트"
      ],
      "metadata": {
        "id": "b6TlgnnTYQe4"
      }
    },
    {
      "cell_type": "markdown",
      "source": [
        "#### **5-1) 장르 속성을 이용한 영화 콘텐츠 기반 필터링** \n",
        "사용자가 특정 영화를 감상하고 그 영화를 좋아했다면 비슷한 특성/속성, 구성 요소 등을 가진 다른 영화를 추천하는 것\n",
        "- 영화(또는 상품/서비스) 간의 유사성을 판단하는 기준이 영화를 구성하는 다양한 콘텐츠를 기반으로 하는 방식\n",
        "- 장르, 감독, 배우, 평점, 키워드, 영화 설명 등 영화에는 다양한 콘텐츠가 존재\n",
        "  - 영화를 선택하는 데 중요한 요소인 영화 장르 속성을 기반으로 만들어보려 함\n",
        "  - 장르 칼럼 값의 유사도를 비교한 뒤 그중 높은 평점을 가지는 영화를 추천하는 방식"
      ],
      "metadata": {
        "id": "7qIL5gkCYvAv"
      }
    },
    {
      "cell_type": "markdown",
      "source": [
        "#### **5-2) 데이터 로딩 및 가공**"
      ],
      "metadata": {
        "id": "VWra5fNaZVKn"
      }
    },
    {
      "cell_type": "code",
      "execution_count": 1,
      "metadata": {
        "colab": {
          "base_uri": "https://localhost:8080/",
          "height": 248
        },
        "id": "nbGimERsXx0T",
        "outputId": "2fa960fc-183a-4f62-896e-4d1390ab8a09"
      },
      "outputs": [
        {
          "output_type": "stream",
          "name": "stdout",
          "text": [
            "(4803, 20)\n"
          ]
        },
        {
          "output_type": "execute_result",
          "data": {
            "text/plain": [
              "      budget                                             genres  \\\n",
              "0  237000000  [{\"id\": 28, \"name\": \"Action\"}, {\"id\": 12, \"nam...   \n",
              "\n",
              "                      homepage     id  \\\n",
              "0  http://www.avatarmovie.com/  19995   \n",
              "\n",
              "                                            keywords original_language  \\\n",
              "0  [{\"id\": 1463, \"name\": \"culture clash\"}, {\"id\":...                en   \n",
              "\n",
              "  original_title                                           overview  \\\n",
              "0         Avatar  In the 22nd century, a paraplegic Marine is di...   \n",
              "\n",
              "   popularity                               production_companies  \\\n",
              "0  150.437577  [{\"name\": \"Ingenious Film Partners\", \"id\": 289...   \n",
              "\n",
              "                                production_countries release_date     revenue  \\\n",
              "0  [{\"iso_3166_1\": \"US\", \"name\": \"United States o...   2009-12-10  2787965087   \n",
              "\n",
              "   runtime                                   spoken_languages    status  \\\n",
              "0    162.0  [{\"iso_639_1\": \"en\", \"name\": \"English\"}, {\"iso...  Released   \n",
              "\n",
              "                       tagline   title  vote_average  vote_count  \n",
              "0  Enter the World of Pandora.  Avatar           7.2       11800  "
            ],
            "text/html": [
              "\n",
              "  <div id=\"df-9eb823bb-8458-4607-b7b4-23793fdaef5e\">\n",
              "    <div class=\"colab-df-container\">\n",
              "      <div>\n",
              "<style scoped>\n",
              "    .dataframe tbody tr th:only-of-type {\n",
              "        vertical-align: middle;\n",
              "    }\n",
              "\n",
              "    .dataframe tbody tr th {\n",
              "        vertical-align: top;\n",
              "    }\n",
              "\n",
              "    .dataframe thead th {\n",
              "        text-align: right;\n",
              "    }\n",
              "</style>\n",
              "<table border=\"1\" class=\"dataframe\">\n",
              "  <thead>\n",
              "    <tr style=\"text-align: right;\">\n",
              "      <th></th>\n",
              "      <th>budget</th>\n",
              "      <th>genres</th>\n",
              "      <th>homepage</th>\n",
              "      <th>id</th>\n",
              "      <th>keywords</th>\n",
              "      <th>original_language</th>\n",
              "      <th>original_title</th>\n",
              "      <th>overview</th>\n",
              "      <th>popularity</th>\n",
              "      <th>production_companies</th>\n",
              "      <th>production_countries</th>\n",
              "      <th>release_date</th>\n",
              "      <th>revenue</th>\n",
              "      <th>runtime</th>\n",
              "      <th>spoken_languages</th>\n",
              "      <th>status</th>\n",
              "      <th>tagline</th>\n",
              "      <th>title</th>\n",
              "      <th>vote_average</th>\n",
              "      <th>vote_count</th>\n",
              "    </tr>\n",
              "  </thead>\n",
              "  <tbody>\n",
              "    <tr>\n",
              "      <th>0</th>\n",
              "      <td>237000000</td>\n",
              "      <td>[{\"id\": 28, \"name\": \"Action\"}, {\"id\": 12, \"nam...</td>\n",
              "      <td>http://www.avatarmovie.com/</td>\n",
              "      <td>19995</td>\n",
              "      <td>[{\"id\": 1463, \"name\": \"culture clash\"}, {\"id\":...</td>\n",
              "      <td>en</td>\n",
              "      <td>Avatar</td>\n",
              "      <td>In the 22nd century, a paraplegic Marine is di...</td>\n",
              "      <td>150.437577</td>\n",
              "      <td>[{\"name\": \"Ingenious Film Partners\", \"id\": 289...</td>\n",
              "      <td>[{\"iso_3166_1\": \"US\", \"name\": \"United States o...</td>\n",
              "      <td>2009-12-10</td>\n",
              "      <td>2787965087</td>\n",
              "      <td>162.0</td>\n",
              "      <td>[{\"iso_639_1\": \"en\", \"name\": \"English\"}, {\"iso...</td>\n",
              "      <td>Released</td>\n",
              "      <td>Enter the World of Pandora.</td>\n",
              "      <td>Avatar</td>\n",
              "      <td>7.2</td>\n",
              "      <td>11800</td>\n",
              "    </tr>\n",
              "  </tbody>\n",
              "</table>\n",
              "</div>\n",
              "      <button class=\"colab-df-convert\" onclick=\"convertToInteractive('df-9eb823bb-8458-4607-b7b4-23793fdaef5e')\"\n",
              "              title=\"Convert this dataframe to an interactive table.\"\n",
              "              style=\"display:none;\">\n",
              "        \n",
              "  <svg xmlns=\"http://www.w3.org/2000/svg\" height=\"24px\"viewBox=\"0 0 24 24\"\n",
              "       width=\"24px\">\n",
              "    <path d=\"M0 0h24v24H0V0z\" fill=\"none\"/>\n",
              "    <path d=\"M18.56 5.44l.94 2.06.94-2.06 2.06-.94-2.06-.94-.94-2.06-.94 2.06-2.06.94zm-11 1L8.5 8.5l.94-2.06 2.06-.94-2.06-.94L8.5 2.5l-.94 2.06-2.06.94zm10 10l.94 2.06.94-2.06 2.06-.94-2.06-.94-.94-2.06-.94 2.06-2.06.94z\"/><path d=\"M17.41 7.96l-1.37-1.37c-.4-.4-.92-.59-1.43-.59-.52 0-1.04.2-1.43.59L10.3 9.45l-7.72 7.72c-.78.78-.78 2.05 0 2.83L4 21.41c.39.39.9.59 1.41.59.51 0 1.02-.2 1.41-.59l7.78-7.78 2.81-2.81c.8-.78.8-2.07 0-2.86zM5.41 20L4 18.59l7.72-7.72 1.47 1.35L5.41 20z\"/>\n",
              "  </svg>\n",
              "      </button>\n",
              "      \n",
              "  <style>\n",
              "    .colab-df-container {\n",
              "      display:flex;\n",
              "      flex-wrap:wrap;\n",
              "      gap: 12px;\n",
              "    }\n",
              "\n",
              "    .colab-df-convert {\n",
              "      background-color: #E8F0FE;\n",
              "      border: none;\n",
              "      border-radius: 50%;\n",
              "      cursor: pointer;\n",
              "      display: none;\n",
              "      fill: #1967D2;\n",
              "      height: 32px;\n",
              "      padding: 0 0 0 0;\n",
              "      width: 32px;\n",
              "    }\n",
              "\n",
              "    .colab-df-convert:hover {\n",
              "      background-color: #E2EBFA;\n",
              "      box-shadow: 0px 1px 2px rgba(60, 64, 67, 0.3), 0px 1px 3px 1px rgba(60, 64, 67, 0.15);\n",
              "      fill: #174EA6;\n",
              "    }\n",
              "\n",
              "    [theme=dark] .colab-df-convert {\n",
              "      background-color: #3B4455;\n",
              "      fill: #D2E3FC;\n",
              "    }\n",
              "\n",
              "    [theme=dark] .colab-df-convert:hover {\n",
              "      background-color: #434B5C;\n",
              "      box-shadow: 0px 1px 3px 1px rgba(0, 0, 0, 0.15);\n",
              "      filter: drop-shadow(0px 1px 2px rgba(0, 0, 0, 0.3));\n",
              "      fill: #FFFFFF;\n",
              "    }\n",
              "  </style>\n",
              "\n",
              "      <script>\n",
              "        const buttonEl =\n",
              "          document.querySelector('#df-9eb823bb-8458-4607-b7b4-23793fdaef5e button.colab-df-convert');\n",
              "        buttonEl.style.display =\n",
              "          google.colab.kernel.accessAllowed ? 'block' : 'none';\n",
              "\n",
              "        async function convertToInteractive(key) {\n",
              "          const element = document.querySelector('#df-9eb823bb-8458-4607-b7b4-23793fdaef5e');\n",
              "          const dataTable =\n",
              "            await google.colab.kernel.invokeFunction('convertToInteractive',\n",
              "                                                     [key], {});\n",
              "          if (!dataTable) return;\n",
              "\n",
              "          const docLinkHtml = 'Like what you see? Visit the ' +\n",
              "            '<a target=\"_blank\" href=https://colab.research.google.com/notebooks/data_table.ipynb>data table notebook</a>'\n",
              "            + ' to learn more about interactive tables.';\n",
              "          element.innerHTML = '';\n",
              "          dataTable['output_type'] = 'display_data';\n",
              "          await google.colab.output.renderOutput(dataTable, element);\n",
              "          const docLink = document.createElement('div');\n",
              "          docLink.innerHTML = docLinkHtml;\n",
              "          element.appendChild(docLink);\n",
              "        }\n",
              "      </script>\n",
              "    </div>\n",
              "  </div>\n",
              "  "
            ]
          },
          "metadata": {},
          "execution_count": 1
        }
      ],
      "source": [
        "import pandas as pd\n",
        "import numpy as np\n",
        "import warnings; warnings.filterwarnings('ignore')\n",
        "\n",
        "movies =pd.read_csv('/content/tmdb_5000_movies.csv')\n",
        "print(movies.shape)\n",
        "movies.head(1)"
      ]
    },
    {
      "cell_type": "markdown",
      "source": [
        "- 4803개의 레코드와 20개의 피처로 구성\n",
        "- 영화 제목, 개요, 인기도, 평점, 투표 수, 예산, 키워드 등 영화에 대한 다양한 메타 정보를 가짐\n",
        "  - 콘텐츠 기반 필터링 추천 분석에 사용할 주요 칼럼만 추출해 새롭게 DataFrame 생성\n",
        "  - id, 영화제목 title, 영화가 속한 여러 가지 장르인 genrse, 평균 평점인 vote_average, <br/> 평점 투표 수인 vote_count, 영화의 인기를 나타내는 popularity, <br/> 영화를 설명하는 주요 키워드 문구인 keywords, 영화에 대한 개요 설명인 overview 추출"
      ],
      "metadata": {
        "id": "eUAvb2HvZlns"
      }
    },
    {
      "cell_type": "markdown",
      "source": [
        "**칼럼 추출**"
      ],
      "metadata": {
        "id": "aGrNrw1JaDmp"
      }
    },
    {
      "cell_type": "code",
      "source": [
        "movies_df = movies[['id','title', 'genres', 'vote_average', 'vote_count',\n",
        "                 'popularity', 'keywords', 'overview']]"
      ],
      "metadata": {
        "id": "c0AZrE3KZitW"
      },
      "execution_count": 2,
      "outputs": []
    },
    {
      "cell_type": "markdown",
      "source": [
        "- genres, keywords 등의 칼럼은 파이썬 리스트 내부에 여러 개의 딕셔너리가 있는 형태의 문자열로 표기됨\n",
        "  - 한꺼번에 여러 개의 값을 표현하기 위한 표기 방식\n",
        "  - genres의 경우 여러 가지 장르로 구성될 수 있기 때문\n",
        "- 그러나 칼럼이 DataFrame으로 만들어질 때는 단순히 문자열 형태로 로딩되므로 가공해야 함"
      ],
      "metadata": {
        "id": "i-wj5t_eaJGJ"
      }
    },
    {
      "cell_type": "markdown",
      "source": [
        "**genres, keywords 칼럼의 형태**"
      ],
      "metadata": {
        "id": "UcItkM-JacNC"
      }
    },
    {
      "cell_type": "code",
      "source": [
        "pd.set_option('max_colwidth', 100)\n",
        "movies_df[['genres','keywords']][:1]"
      ],
      "metadata": {
        "colab": {
          "base_uri": "https://localhost:8080/",
          "height": 142
        },
        "id": "13HXdgY3aCIX",
        "outputId": "77527f89-5294-4c9e-92bd-8e634af74b3e"
      },
      "execution_count": 3,
      "outputs": [
        {
          "output_type": "execute_result",
          "data": {
            "text/plain": [
              "                                                                                                genres  \\\n",
              "0  [{\"id\": 28, \"name\": \"Action\"}, {\"id\": 12, \"name\": \"Adventure\"}, {\"id\": 14, \"name\": \"Fantasy\"}, {...   \n",
              "\n",
              "                                                                                              keywords  \n",
              "0  [{\"id\": 1463, \"name\": \"culture clash\"}, {\"id\": 2964, \"name\": \"future\"}, {\"id\": 3386, \"name\": \"sp...  "
            ],
            "text/html": [
              "\n",
              "  <div id=\"df-9212b562-5b74-4fbc-8b79-725cfd0376db\">\n",
              "    <div class=\"colab-df-container\">\n",
              "      <div>\n",
              "<style scoped>\n",
              "    .dataframe tbody tr th:only-of-type {\n",
              "        vertical-align: middle;\n",
              "    }\n",
              "\n",
              "    .dataframe tbody tr th {\n",
              "        vertical-align: top;\n",
              "    }\n",
              "\n",
              "    .dataframe thead th {\n",
              "        text-align: right;\n",
              "    }\n",
              "</style>\n",
              "<table border=\"1\" class=\"dataframe\">\n",
              "  <thead>\n",
              "    <tr style=\"text-align: right;\">\n",
              "      <th></th>\n",
              "      <th>genres</th>\n",
              "      <th>keywords</th>\n",
              "    </tr>\n",
              "  </thead>\n",
              "  <tbody>\n",
              "    <tr>\n",
              "      <th>0</th>\n",
              "      <td>[{\"id\": 28, \"name\": \"Action\"}, {\"id\": 12, \"name\": \"Adventure\"}, {\"id\": 14, \"name\": \"Fantasy\"}, {...</td>\n",
              "      <td>[{\"id\": 1463, \"name\": \"culture clash\"}, {\"id\": 2964, \"name\": \"future\"}, {\"id\": 3386, \"name\": \"sp...</td>\n",
              "    </tr>\n",
              "  </tbody>\n",
              "</table>\n",
              "</div>\n",
              "      <button class=\"colab-df-convert\" onclick=\"convertToInteractive('df-9212b562-5b74-4fbc-8b79-725cfd0376db')\"\n",
              "              title=\"Convert this dataframe to an interactive table.\"\n",
              "              style=\"display:none;\">\n",
              "        \n",
              "  <svg xmlns=\"http://www.w3.org/2000/svg\" height=\"24px\"viewBox=\"0 0 24 24\"\n",
              "       width=\"24px\">\n",
              "    <path d=\"M0 0h24v24H0V0z\" fill=\"none\"/>\n",
              "    <path d=\"M18.56 5.44l.94 2.06.94-2.06 2.06-.94-2.06-.94-.94-2.06-.94 2.06-2.06.94zm-11 1L8.5 8.5l.94-2.06 2.06-.94-2.06-.94L8.5 2.5l-.94 2.06-2.06.94zm10 10l.94 2.06.94-2.06 2.06-.94-2.06-.94-.94-2.06-.94 2.06-2.06.94z\"/><path d=\"M17.41 7.96l-1.37-1.37c-.4-.4-.92-.59-1.43-.59-.52 0-1.04.2-1.43.59L10.3 9.45l-7.72 7.72c-.78.78-.78 2.05 0 2.83L4 21.41c.39.39.9.59 1.41.59.51 0 1.02-.2 1.41-.59l7.78-7.78 2.81-2.81c.8-.78.8-2.07 0-2.86zM5.41 20L4 18.59l7.72-7.72 1.47 1.35L5.41 20z\"/>\n",
              "  </svg>\n",
              "      </button>\n",
              "      \n",
              "  <style>\n",
              "    .colab-df-container {\n",
              "      display:flex;\n",
              "      flex-wrap:wrap;\n",
              "      gap: 12px;\n",
              "    }\n",
              "\n",
              "    .colab-df-convert {\n",
              "      background-color: #E8F0FE;\n",
              "      border: none;\n",
              "      border-radius: 50%;\n",
              "      cursor: pointer;\n",
              "      display: none;\n",
              "      fill: #1967D2;\n",
              "      height: 32px;\n",
              "      padding: 0 0 0 0;\n",
              "      width: 32px;\n",
              "    }\n",
              "\n",
              "    .colab-df-convert:hover {\n",
              "      background-color: #E2EBFA;\n",
              "      box-shadow: 0px 1px 2px rgba(60, 64, 67, 0.3), 0px 1px 3px 1px rgba(60, 64, 67, 0.15);\n",
              "      fill: #174EA6;\n",
              "    }\n",
              "\n",
              "    [theme=dark] .colab-df-convert {\n",
              "      background-color: #3B4455;\n",
              "      fill: #D2E3FC;\n",
              "    }\n",
              "\n",
              "    [theme=dark] .colab-df-convert:hover {\n",
              "      background-color: #434B5C;\n",
              "      box-shadow: 0px 1px 3px 1px rgba(0, 0, 0, 0.15);\n",
              "      filter: drop-shadow(0px 1px 2px rgba(0, 0, 0, 0.3));\n",
              "      fill: #FFFFFF;\n",
              "    }\n",
              "  </style>\n",
              "\n",
              "      <script>\n",
              "        const buttonEl =\n",
              "          document.querySelector('#df-9212b562-5b74-4fbc-8b79-725cfd0376db button.colab-df-convert');\n",
              "        buttonEl.style.display =\n",
              "          google.colab.kernel.accessAllowed ? 'block' : 'none';\n",
              "\n",
              "        async function convertToInteractive(key) {\n",
              "          const element = document.querySelector('#df-9212b562-5b74-4fbc-8b79-725cfd0376db');\n",
              "          const dataTable =\n",
              "            await google.colab.kernel.invokeFunction('convertToInteractive',\n",
              "                                                     [key], {});\n",
              "          if (!dataTable) return;\n",
              "\n",
              "          const docLinkHtml = 'Like what you see? Visit the ' +\n",
              "            '<a target=\"_blank\" href=https://colab.research.google.com/notebooks/data_table.ipynb>data table notebook</a>'\n",
              "            + ' to learn more about interactive tables.';\n",
              "          element.innerHTML = '';\n",
              "          dataTable['output_type'] = 'display_data';\n",
              "          await google.colab.output.renderOutput(dataTable, element);\n",
              "          const docLink = document.createElement('div');\n",
              "          docLink.innerHTML = docLinkHtml;\n",
              "          element.appendChild(docLink);\n",
              "        }\n",
              "      </script>\n",
              "    </div>\n",
              "  </div>\n",
              "  "
            ]
          },
          "metadata": {},
          "execution_count": 3
        }
      ]
    },
    {
      "cell_type": "markdown",
      "source": [
        "- genres 칼럼은 여러 개의 개별 장르 데이터를 가지고 있고, 개별 장르의 명칭은 딕셔너리의 Key인 'name'으로 추출 가능\n",
        "- Keywords 역시 마찬가지 구조를 가지고 있음"
      ],
      "metadata": {
        "id": "O80fzOPdahR-"
      }
    },
    {
      "cell_type": "markdown",
      "source": [
        "**genres, keywords 칼럼 1차 가공** <br/>\n",
        "파이썬 ast 모듈의 literal_eval() 함수를 이용하면 이 문자열을 문자열을 의미하는 list[dic1, dic2] 객체로 만듦\n",
        "- Series 객체의 apply()에 literal_eval() 함수를 적용해 문자열을 객체로 변환"
      ],
      "metadata": {
        "id": "-QSNAcVxas9H"
      }
    },
    {
      "cell_type": "code",
      "source": [
        "from ast import literal_eval\n",
        "\n",
        "movies_df['genres'] = movies_df['genres'].apply(literal_eval)\n",
        "movies_df['keywords'] = movies_df['keywords'].apply(literal_eval)"
      ],
      "metadata": {
        "id": "ObQjxa7safNF"
      },
      "execution_count": 4,
      "outputs": []
    },
    {
      "cell_type": "markdown",
      "source": [
        "- 이제 genres 칼럼은 문자열이 아니라 실제 리스트 내부에 여러 장르 딕셔너리로 구성된 객체를 가짐"
      ],
      "metadata": {
        "id": "ChWijLPrbNRr"
      }
    },
    {
      "cell_type": "markdown",
      "source": [
        "**genres, keywords 칼럼 2차 가공** <br/>\n",
        "genres 칼럼에서 장르명만 리스트 객체로 추출\n",
        "- genres 칼럼에서 'name'키에 해당하는 값을 추출하기 위해 apply lambda 식을 이용\n",
        "- apply(lambda x[y['name'] for y in x])와 같이 변환하면 <br/> 리스트 내 여러 개의 딕셔너리 'name' 키에 해당하는 값을 찾아 이를 리스트 객체로 변환"
      ],
      "metadata": {
        "id": "_zeOBNU5bSP_"
      }
    },
    {
      "cell_type": "code",
      "source": [
        "movies_df['genres'] = movies_df['genres'].apply(lambda x : [ y['name'] for y in x])\n",
        "movies_df['keywords'] = movies_df['keywords'].apply(lambda x : [ y['name'] for y in x])\n",
        "movies_df[['genres', 'keywords']][:1] "
      ],
      "metadata": {
        "colab": {
          "base_uri": "https://localhost:8080/",
          "height": 142
        },
        "id": "EQ5fFUCva_Q3",
        "outputId": "c9ec45d5-6f29-4603-a494-ee0bf6f8ab24"
      },
      "execution_count": 5,
      "outputs": [
        {
          "output_type": "execute_result",
          "data": {
            "text/plain": [
              "                                          genres  \\\n",
              "0  [Action, Adventure, Fantasy, Science Fiction]   \n",
              "\n",
              "                                                                                              keywords  \n",
              "0  [culture clash, future, space war, space colony, society, space travel, futuristic, romance, spa...  "
            ],
            "text/html": [
              "\n",
              "  <div id=\"df-78b0766e-477b-4483-92c4-8711d36a8373\">\n",
              "    <div class=\"colab-df-container\">\n",
              "      <div>\n",
              "<style scoped>\n",
              "    .dataframe tbody tr th:only-of-type {\n",
              "        vertical-align: middle;\n",
              "    }\n",
              "\n",
              "    .dataframe tbody tr th {\n",
              "        vertical-align: top;\n",
              "    }\n",
              "\n",
              "    .dataframe thead th {\n",
              "        text-align: right;\n",
              "    }\n",
              "</style>\n",
              "<table border=\"1\" class=\"dataframe\">\n",
              "  <thead>\n",
              "    <tr style=\"text-align: right;\">\n",
              "      <th></th>\n",
              "      <th>genres</th>\n",
              "      <th>keywords</th>\n",
              "    </tr>\n",
              "  </thead>\n",
              "  <tbody>\n",
              "    <tr>\n",
              "      <th>0</th>\n",
              "      <td>[Action, Adventure, Fantasy, Science Fiction]</td>\n",
              "      <td>[culture clash, future, space war, space colony, society, space travel, futuristic, romance, spa...</td>\n",
              "    </tr>\n",
              "  </tbody>\n",
              "</table>\n",
              "</div>\n",
              "      <button class=\"colab-df-convert\" onclick=\"convertToInteractive('df-78b0766e-477b-4483-92c4-8711d36a8373')\"\n",
              "              title=\"Convert this dataframe to an interactive table.\"\n",
              "              style=\"display:none;\">\n",
              "        \n",
              "  <svg xmlns=\"http://www.w3.org/2000/svg\" height=\"24px\"viewBox=\"0 0 24 24\"\n",
              "       width=\"24px\">\n",
              "    <path d=\"M0 0h24v24H0V0z\" fill=\"none\"/>\n",
              "    <path d=\"M18.56 5.44l.94 2.06.94-2.06 2.06-.94-2.06-.94-.94-2.06-.94 2.06-2.06.94zm-11 1L8.5 8.5l.94-2.06 2.06-.94-2.06-.94L8.5 2.5l-.94 2.06-2.06.94zm10 10l.94 2.06.94-2.06 2.06-.94-2.06-.94-.94-2.06-.94 2.06-2.06.94z\"/><path d=\"M17.41 7.96l-1.37-1.37c-.4-.4-.92-.59-1.43-.59-.52 0-1.04.2-1.43.59L10.3 9.45l-7.72 7.72c-.78.78-.78 2.05 0 2.83L4 21.41c.39.39.9.59 1.41.59.51 0 1.02-.2 1.41-.59l7.78-7.78 2.81-2.81c.8-.78.8-2.07 0-2.86zM5.41 20L4 18.59l7.72-7.72 1.47 1.35L5.41 20z\"/>\n",
              "  </svg>\n",
              "      </button>\n",
              "      \n",
              "  <style>\n",
              "    .colab-df-container {\n",
              "      display:flex;\n",
              "      flex-wrap:wrap;\n",
              "      gap: 12px;\n",
              "    }\n",
              "\n",
              "    .colab-df-convert {\n",
              "      background-color: #E8F0FE;\n",
              "      border: none;\n",
              "      border-radius: 50%;\n",
              "      cursor: pointer;\n",
              "      display: none;\n",
              "      fill: #1967D2;\n",
              "      height: 32px;\n",
              "      padding: 0 0 0 0;\n",
              "      width: 32px;\n",
              "    }\n",
              "\n",
              "    .colab-df-convert:hover {\n",
              "      background-color: #E2EBFA;\n",
              "      box-shadow: 0px 1px 2px rgba(60, 64, 67, 0.3), 0px 1px 3px 1px rgba(60, 64, 67, 0.15);\n",
              "      fill: #174EA6;\n",
              "    }\n",
              "\n",
              "    [theme=dark] .colab-df-convert {\n",
              "      background-color: #3B4455;\n",
              "      fill: #D2E3FC;\n",
              "    }\n",
              "\n",
              "    [theme=dark] .colab-df-convert:hover {\n",
              "      background-color: #434B5C;\n",
              "      box-shadow: 0px 1px 3px 1px rgba(0, 0, 0, 0.15);\n",
              "      filter: drop-shadow(0px 1px 2px rgba(0, 0, 0, 0.3));\n",
              "      fill: #FFFFFF;\n",
              "    }\n",
              "  </style>\n",
              "\n",
              "      <script>\n",
              "        const buttonEl =\n",
              "          document.querySelector('#df-78b0766e-477b-4483-92c4-8711d36a8373 button.colab-df-convert');\n",
              "        buttonEl.style.display =\n",
              "          google.colab.kernel.accessAllowed ? 'block' : 'none';\n",
              "\n",
              "        async function convertToInteractive(key) {\n",
              "          const element = document.querySelector('#df-78b0766e-477b-4483-92c4-8711d36a8373');\n",
              "          const dataTable =\n",
              "            await google.colab.kernel.invokeFunction('convertToInteractive',\n",
              "                                                     [key], {});\n",
              "          if (!dataTable) return;\n",
              "\n",
              "          const docLinkHtml = 'Like what you see? Visit the ' +\n",
              "            '<a target=\"_blank\" href=https://colab.research.google.com/notebooks/data_table.ipynb>data table notebook</a>'\n",
              "            + ' to learn more about interactive tables.';\n",
              "          element.innerHTML = '';\n",
              "          dataTable['output_type'] = 'display_data';\n",
              "          await google.colab.output.renderOutput(dataTable, element);\n",
              "          const docLink = document.createElement('div');\n",
              "          docLink.innerHTML = docLinkHtml;\n",
              "          element.appendChild(docLink);\n",
              "        }\n",
              "      </script>\n",
              "    </div>\n",
              "  </div>\n",
              "  "
            ]
          },
          "metadata": {},
          "execution_count": 5
        }
      ]
    },
    {
      "cell_type": "markdown",
      "source": [
        "#### **5-3) 장르 콘텐츠 유사도 측정**\n",
        "genres를 문자열로 변경한 뒤 CountVectorizer로 피처 벡터화한 행렬 데이터 값을 코사인 유사도로 비교\n",
        "- 문자열로 변환된 genres 칼럼을 Count 기반으로 피처 벡터화 변환\n",
        "- genres 문자열을 피처 벡터화 행렬로 변환한 데이터 세트를 코사인 유사도를 통해 비교. <br/> 이를 위해 데이터 세트의 레코드 별로 타 레코드와 장르에서 코사인 유사도 값을 가지는 객체를 생성\n",
        "- 장르 유사도가 높은 영화 중에 평점이 높은 순으로 영화를 추천"
      ],
      "metadata": {
        "id": "Ni7XZ8-bbvgo"
      }
    },
    {
      "cell_type": "markdown",
      "source": [
        "**장르 문자열의 Count기반 피처 벡터화** <br/>\n",
        "genres 칼럼을 문자열로 변환한 뒤 사이킷런의 CountVectorizer을 이용해 피처 벡터 행렬로 생성\n",
        "- 리스트 객체 값으로 구성된 genres 칼럼을 apply(lambda x :(' ').join(x))를 적용해 <br/> 개별 요소를 공백 문자로 구분하는 문자열로 변환해 별도의 칼럼인 genres\n",
        "_listeral 칼럼으로 저장\n",
        "- 리스트 객체 내의 개별 값을 연속된 문자열로 변환하려면 일반적으로 ('구분문자').join(리스트 객체)를 사용"
      ],
      "metadata": {
        "id": "gyZK5NeycoHj"
      }
    },
    {
      "cell_type": "code",
      "source": [
        "from sklearn.feature_extraction.text import CountVectorizer\n",
        "\n",
        "# CountVectorizer를 적용하기 위해 공백문자로 word 단위가 구분되는 문자열로 변환. \n",
        "movies_df['genres_literal'] = movies_df['genres'].apply(lambda x : (' ').join(x))\n",
        "count_vect = CountVectorizer(min_df=0, ngram_range=(1,2))\n",
        "genre_mat = count_vect.fit_transform(movies_df['genres_literal'])\n",
        "print(genre_mat.shape)"
      ],
      "metadata": {
        "colab": {
          "base_uri": "https://localhost:8080/"
        },
        "id": "eB4ClMWKbucT",
        "outputId": "09cca3e1-7d4d-40c1-cd5a-6e178af47056"
      },
      "execution_count": 6,
      "outputs": [
        {
          "output_type": "stream",
          "name": "stdout",
          "text": [
            "(4803, 276)\n"
          ]
        }
      ]
    },
    {
      "cell_type": "markdown",
      "source": [
        "- CountVectorizer로 변환해 4803개의 레코드와 276개의 개별 단어 피처로 구성된 피처 벡터 행렬 생성"
      ],
      "metadata": {
        "id": "x_phuMAmdExu"
      }
    },
    {
      "cell_type": "markdown",
      "source": [
        "**장르에 따른 영화별 코사인 유사도 추출** <br/>\n",
        "cosine_siilarity()를 이용해 코사인 유사도 추출\n",
        "- cosine_siilarity()는 기준 행과 비교 행의 코사인 유사도를 행렬 형태로 반환하는 함수"
      ],
      "metadata": {
        "id": "0nMhLCssdKd6"
      }
    },
    {
      "cell_type": "code",
      "source": [
        "from sklearn.metrics.pairwise import cosine_similarity\n",
        "\n",
        "genre_sim = cosine_similarity(genre_mat, genre_mat)\n",
        "print(genre_sim.shape)\n",
        "print(genre_sim[:2])"
      ],
      "metadata": {
        "colab": {
          "base_uri": "https://localhost:8080/"
        },
        "id": "YRaeFYfCdD0D",
        "outputId": "6abd00a5-0280-48e1-c031-4c663ac51779"
      },
      "execution_count": 7,
      "outputs": [
        {
          "output_type": "stream",
          "name": "stdout",
          "text": [
            "(4803, 4803)\n",
            "[[1.         0.59628479 0.4472136  ... 0.         0.         0.        ]\n",
            " [0.59628479 1.         0.4        ... 0.         0.         0.        ]]\n"
          ]
        }
      ]
    },
    {
      "cell_type": "markdown",
      "source": [
        "- genre_sim 객체는 movie_df의 genre_literal 칼럼을 피처 벡터화한 행렬 데이터의 행별 유사도 정보를 가짐\n",
        "- genre_sim 객체는 movies_df DataFrame의 행별 장르 유사도 값을 가지고 있는 것\n",
        "- movies_df를 장르 기준으로 콘텐츠 기반 필터링을 수행하기 위해서는 <br/> movies_df의 개별 레코드에 대해서 가장 장르 유사도가 높은 순으로 다른 레코드를 추출해야 하는데, <br/> 이를 위해 앞에서 생성한 genre_sim 객체를 이용해야 함"
      ],
      "metadata": {
        "id": "fktdz4TfdYj9"
      }
    },
    {
      "cell_type": "markdown",
      "source": [
        "**높은 순으로 정렬된 비교 행 위치 인덱스 값 추출** <br/>\n",
        "높은 순으로 정렬된 비교 행 위치 인덱스 값을 가져오고 그중에 0번 레코드의 비교 행 위치 인덱스 값만 샘플로 추출\n",
        "- 값이 높은 순으로 정렬된 비교 대상 행의 유사도 값이 아니라 비교 대상 행의 위치 인덱스임에 주의\n",
        "- argsort()[:, ::-1]을 이용하면 유사도가 높은 순으로 정리된 비교 행 위치 인덱스 값을 얻을 수 있음"
      ],
      "metadata": {
        "id": "7wBIccBOe2gT"
      }
    },
    {
      "cell_type": "code",
      "source": [
        "genre_sim_sorted_ind = genre_sim.argsort()[:, ::-1]\n",
        "print(genre_sim_sorted_ind[:1])"
      ],
      "metadata": {
        "colab": {
          "base_uri": "https://localhost:8080/"
        },
        "id": "1j1ScknDdUko",
        "outputId": "78a620ee-92d3-4083-fa93-d5399fcbd3ae"
      },
      "execution_count": 8,
      "outputs": [
        {
          "output_type": "stream",
          "name": "stdout",
          "text": [
            "[[   0 3494  813 ... 3038 3037 2401]]\n"
          ]
        }
      ]
    },
    {
      "cell_type": "markdown",
      "source": [
        "- 0번 레코드의 경우 자신인 0번 레코드를 제외하면 3494번 레코드와 가장 유사도가 높고, 그 다음이 813번 레코드이며, <br/> 가장 유사도가 낮은 레코드는 2401번 레코드라는 뜻\n",
        "- 각 레코드의 장르 코사인 유사도가 가장 높은 순으로 정렬된 타 레코드의 위치 인덱스 값을 가지고 있음"
      ],
      "metadata": {
        "id": "pYXARVYxfg4k"
      }
    },
    {
      "cell_type": "markdown",
      "source": [
        "#### **5-4) 장르 콘텐츠 필터링을 이용한 영화 추천**\n",
        "장르 유사도에 따라 영화를 추천하는 함수 find_sim_movie() 생성\n",
        "- 인자로 기반 데이터인 movies_df, 레코드별 장르 코사인 유사도 인덱스를 가지고 있는 genre_sim_sorted_ind, <br/> 고객이 선정한 추천 기준이 되는 영화 제목, 추천할 영화 건수를 입력하면 추천 영화 정보를 가지는 DataFrame을 반환"
      ],
      "metadata": {
        "id": "O9AHB_JwgBu9"
      }
    },
    {
      "cell_type": "code",
      "source": [
        "def find_sim_movie(df, sorted_ind, title_name, top_n=10):\n",
        "    \n",
        "    # 인자로 입력된 movies_df DataFrame에서 'title' 컬럼이 입력된 title_name 값인 DataFrame추출\n",
        "    title_movie = df[df['title'] == title_name]\n",
        "    \n",
        "    # title_named을 가진 DataFrame의 index 객체를 ndarray로 반환하고 \n",
        "    # sorted_ind 인자로 입력된 genre_sim_sorted_ind 객체에서 유사도 순으로 top_n 개의 index 추출\n",
        "    title_index = title_movie.index.values\n",
        "    similar_indexes = sorted_ind[title_index, :(top_n)]\n",
        "    \n",
        "    # 추출된 top_n index들 출력. top_n index는 2차원 데이터 임. \n",
        "    #dataframe에서 index로 사용하기 위해서 1차원 array로 변경\n",
        "    print(similar_indexes)\n",
        "    similar_indexes = similar_indexes.reshape(-1)\n",
        "    \n",
        "    return df.iloc[similar_indexes]"
      ],
      "metadata": {
        "id": "wsrVmVPxfAFm"
      },
      "execution_count": 9,
      "outputs": []
    },
    {
      "cell_type": "markdown",
      "source": [
        "**영화 '대부'와 장르별로 유사한 영화 10개 추천**"
      ],
      "metadata": {
        "id": "KOVkfJBWgftM"
      }
    },
    {
      "cell_type": "code",
      "source": [
        "similar_movies = find_sim_movie(movies_df, genre_sim_sorted_ind, 'The Godfather',10)\n",
        "similar_movies[['title', 'vote_average']]"
      ],
      "metadata": {
        "colab": {
          "base_uri": "https://localhost:8080/",
          "height": 380
        },
        "id": "JlHflUe5gbr5",
        "outputId": "b1bb7df6-8153-40a8-bad8-1f1c62ee0de6"
      },
      "execution_count": 10,
      "outputs": [
        {
          "output_type": "stream",
          "name": "stdout",
          "text": [
            "[[2731 1243 3636 1946 2640 4065 1847 4217  883 3866]]\n"
          ]
        },
        {
          "output_type": "execute_result",
          "data": {
            "text/plain": [
              "                                               title  vote_average\n",
              "2731                          The Godfather: Part II           8.3\n",
              "1243                                    Mean Streets           7.2\n",
              "3636                                   Light Sleeper           5.7\n",
              "1946  The Bad Lieutenant: Port of Call - New Orleans           6.0\n",
              "2640         Things to Do in Denver When You're Dead           6.7\n",
              "4065                                      Mi America           0.0\n",
              "1847                                      GoodFellas           8.2\n",
              "4217                                            Kids           6.8\n",
              "883                              Catch Me If You Can           7.7\n",
              "3866                                     City of God           8.1"
            ],
            "text/html": [
              "\n",
              "  <div id=\"df-03de17f2-6488-4bf5-ad3e-2f4f233bd670\">\n",
              "    <div class=\"colab-df-container\">\n",
              "      <div>\n",
              "<style scoped>\n",
              "    .dataframe tbody tr th:only-of-type {\n",
              "        vertical-align: middle;\n",
              "    }\n",
              "\n",
              "    .dataframe tbody tr th {\n",
              "        vertical-align: top;\n",
              "    }\n",
              "\n",
              "    .dataframe thead th {\n",
              "        text-align: right;\n",
              "    }\n",
              "</style>\n",
              "<table border=\"1\" class=\"dataframe\">\n",
              "  <thead>\n",
              "    <tr style=\"text-align: right;\">\n",
              "      <th></th>\n",
              "      <th>title</th>\n",
              "      <th>vote_average</th>\n",
              "    </tr>\n",
              "  </thead>\n",
              "  <tbody>\n",
              "    <tr>\n",
              "      <th>2731</th>\n",
              "      <td>The Godfather: Part II</td>\n",
              "      <td>8.3</td>\n",
              "    </tr>\n",
              "    <tr>\n",
              "      <th>1243</th>\n",
              "      <td>Mean Streets</td>\n",
              "      <td>7.2</td>\n",
              "    </tr>\n",
              "    <tr>\n",
              "      <th>3636</th>\n",
              "      <td>Light Sleeper</td>\n",
              "      <td>5.7</td>\n",
              "    </tr>\n",
              "    <tr>\n",
              "      <th>1946</th>\n",
              "      <td>The Bad Lieutenant: Port of Call - New Orleans</td>\n",
              "      <td>6.0</td>\n",
              "    </tr>\n",
              "    <tr>\n",
              "      <th>2640</th>\n",
              "      <td>Things to Do in Denver When You're Dead</td>\n",
              "      <td>6.7</td>\n",
              "    </tr>\n",
              "    <tr>\n",
              "      <th>4065</th>\n",
              "      <td>Mi America</td>\n",
              "      <td>0.0</td>\n",
              "    </tr>\n",
              "    <tr>\n",
              "      <th>1847</th>\n",
              "      <td>GoodFellas</td>\n",
              "      <td>8.2</td>\n",
              "    </tr>\n",
              "    <tr>\n",
              "      <th>4217</th>\n",
              "      <td>Kids</td>\n",
              "      <td>6.8</td>\n",
              "    </tr>\n",
              "    <tr>\n",
              "      <th>883</th>\n",
              "      <td>Catch Me If You Can</td>\n",
              "      <td>7.7</td>\n",
              "    </tr>\n",
              "    <tr>\n",
              "      <th>3866</th>\n",
              "      <td>City of God</td>\n",
              "      <td>8.1</td>\n",
              "    </tr>\n",
              "  </tbody>\n",
              "</table>\n",
              "</div>\n",
              "      <button class=\"colab-df-convert\" onclick=\"convertToInteractive('df-03de17f2-6488-4bf5-ad3e-2f4f233bd670')\"\n",
              "              title=\"Convert this dataframe to an interactive table.\"\n",
              "              style=\"display:none;\">\n",
              "        \n",
              "  <svg xmlns=\"http://www.w3.org/2000/svg\" height=\"24px\"viewBox=\"0 0 24 24\"\n",
              "       width=\"24px\">\n",
              "    <path d=\"M0 0h24v24H0V0z\" fill=\"none\"/>\n",
              "    <path d=\"M18.56 5.44l.94 2.06.94-2.06 2.06-.94-2.06-.94-.94-2.06-.94 2.06-2.06.94zm-11 1L8.5 8.5l.94-2.06 2.06-.94-2.06-.94L8.5 2.5l-.94 2.06-2.06.94zm10 10l.94 2.06.94-2.06 2.06-.94-2.06-.94-.94-2.06-.94 2.06-2.06.94z\"/><path d=\"M17.41 7.96l-1.37-1.37c-.4-.4-.92-.59-1.43-.59-.52 0-1.04.2-1.43.59L10.3 9.45l-7.72 7.72c-.78.78-.78 2.05 0 2.83L4 21.41c.39.39.9.59 1.41.59.51 0 1.02-.2 1.41-.59l7.78-7.78 2.81-2.81c.8-.78.8-2.07 0-2.86zM5.41 20L4 18.59l7.72-7.72 1.47 1.35L5.41 20z\"/>\n",
              "  </svg>\n",
              "      </button>\n",
              "      \n",
              "  <style>\n",
              "    .colab-df-container {\n",
              "      display:flex;\n",
              "      flex-wrap:wrap;\n",
              "      gap: 12px;\n",
              "    }\n",
              "\n",
              "    .colab-df-convert {\n",
              "      background-color: #E8F0FE;\n",
              "      border: none;\n",
              "      border-radius: 50%;\n",
              "      cursor: pointer;\n",
              "      display: none;\n",
              "      fill: #1967D2;\n",
              "      height: 32px;\n",
              "      padding: 0 0 0 0;\n",
              "      width: 32px;\n",
              "    }\n",
              "\n",
              "    .colab-df-convert:hover {\n",
              "      background-color: #E2EBFA;\n",
              "      box-shadow: 0px 1px 2px rgba(60, 64, 67, 0.3), 0px 1px 3px 1px rgba(60, 64, 67, 0.15);\n",
              "      fill: #174EA6;\n",
              "    }\n",
              "\n",
              "    [theme=dark] .colab-df-convert {\n",
              "      background-color: #3B4455;\n",
              "      fill: #D2E3FC;\n",
              "    }\n",
              "\n",
              "    [theme=dark] .colab-df-convert:hover {\n",
              "      background-color: #434B5C;\n",
              "      box-shadow: 0px 1px 3px 1px rgba(0, 0, 0, 0.15);\n",
              "      filter: drop-shadow(0px 1px 2px rgba(0, 0, 0, 0.3));\n",
              "      fill: #FFFFFF;\n",
              "    }\n",
              "  </style>\n",
              "\n",
              "      <script>\n",
              "        const buttonEl =\n",
              "          document.querySelector('#df-03de17f2-6488-4bf5-ad3e-2f4f233bd670 button.colab-df-convert');\n",
              "        buttonEl.style.display =\n",
              "          google.colab.kernel.accessAllowed ? 'block' : 'none';\n",
              "\n",
              "        async function convertToInteractive(key) {\n",
              "          const element = document.querySelector('#df-03de17f2-6488-4bf5-ad3e-2f4f233bd670');\n",
              "          const dataTable =\n",
              "            await google.colab.kernel.invokeFunction('convertToInteractive',\n",
              "                                                     [key], {});\n",
              "          if (!dataTable) return;\n",
              "\n",
              "          const docLinkHtml = 'Like what you see? Visit the ' +\n",
              "            '<a target=\"_blank\" href=https://colab.research.google.com/notebooks/data_table.ipynb>data table notebook</a>'\n",
              "            + ' to learn more about interactive tables.';\n",
              "          element.innerHTML = '';\n",
              "          dataTable['output_type'] = 'display_data';\n",
              "          await google.colab.output.renderOutput(dataTable, element);\n",
              "          const docLink = document.createElement('div');\n",
              "          docLink.innerHTML = docLinkHtml;\n",
              "          element.appendChild(docLink);\n",
              "        }\n",
              "      </script>\n",
              "    </div>\n",
              "  </div>\n",
              "  "
            ]
          },
          "metadata": {},
          "execution_count": 10
        }
      ]
    },
    {
      "cell_type": "markdown",
      "source": [
        "- '대부 2편(The Godfather: Part 2)'이 가장 먼저 추천됨\n",
        "- 그 외에 1847번 인덱스의 '좋은 친구들(GoodFellas)'도 대부와 비슷한 유형\n",
        "- 하지만 '라이트 슬리퍼(Light Sleeper), 'Mi America'등 낯선 영화도 존재\n",
        "  - 대부를 좋아하는 고객에게 섣불리 추천하기에는 이해하기 어려운 영화\n",
        "  - 라이트 슬리퍼의 경우 평점이 낮은 편이고, Mi America는 평점이 0"
      ],
      "metadata": {
        "id": "DlXjiQVIglhs"
      }
    },
    {
      "cell_type": "markdown",
      "source": [
        "**평점이 높은 영화 정보 확인** <br/>\n",
        "좀 더 많은 후보군으로 선정한 뒤에 영화의 평점에 따라 필터링해서 최종 추천하는 방식으로 변경\n",
        "- 영화의 평점 정보인 vote_average를 이용\n",
        "  - vote_average는 0부터 10점 만점까지의 점수로 되어있는데, 여러 관객이 평가한 평점을 평균\n",
        "  - 1명, 2명의 소수의 관객이 특정 영화에 만점이나 매우 높은 평점을 부여해 왜곡된 데이터를 가짐\n",
        "- sort_values()를 이용해 평점 오름차순으로 movies_df를 정렬해 10개만 출력"
      ],
      "metadata": {
        "id": "8VS_YkXgg9OQ"
      }
    },
    {
      "cell_type": "code",
      "source": [
        "movies_df[['title','vote_average','vote_count']].sort_values('vote_average', ascending=False)[:10]"
      ],
      "metadata": {
        "colab": {
          "base_uri": "https://localhost:8080/",
          "height": 362
        },
        "id": "jaccDBtrgj9d",
        "outputId": "1e9d24ab-4f6a-4750-c216-c2cc5d09a875"
      },
      "execution_count": 11,
      "outputs": [
        {
          "output_type": "execute_result",
          "data": {
            "text/plain": [
              "                         title  vote_average  vote_count\n",
              "3519          Stiff Upper Lips          10.0           1\n",
              "4247     Me You and Five Bucks          10.0           2\n",
              "4045     Dancer, Texas Pop. 81          10.0           1\n",
              "4662            Little Big Top          10.0           1\n",
              "3992                 Sardaarji           9.5           2\n",
              "2386            One Man's Hero           9.3           2\n",
              "2970        There Goes My Baby           8.5           2\n",
              "1881  The Shawshank Redemption           8.5        8205\n",
              "2796     The Prisoner of Zenda           8.4          11\n",
              "3337             The Godfather           8.4        5893"
            ],
            "text/html": [
              "\n",
              "  <div id=\"df-fc5588c4-c39f-4686-8f8c-57909d54236d\">\n",
              "    <div class=\"colab-df-container\">\n",
              "      <div>\n",
              "<style scoped>\n",
              "    .dataframe tbody tr th:only-of-type {\n",
              "        vertical-align: middle;\n",
              "    }\n",
              "\n",
              "    .dataframe tbody tr th {\n",
              "        vertical-align: top;\n",
              "    }\n",
              "\n",
              "    .dataframe thead th {\n",
              "        text-align: right;\n",
              "    }\n",
              "</style>\n",
              "<table border=\"1\" class=\"dataframe\">\n",
              "  <thead>\n",
              "    <tr style=\"text-align: right;\">\n",
              "      <th></th>\n",
              "      <th>title</th>\n",
              "      <th>vote_average</th>\n",
              "      <th>vote_count</th>\n",
              "    </tr>\n",
              "  </thead>\n",
              "  <tbody>\n",
              "    <tr>\n",
              "      <th>3519</th>\n",
              "      <td>Stiff Upper Lips</td>\n",
              "      <td>10.0</td>\n",
              "      <td>1</td>\n",
              "    </tr>\n",
              "    <tr>\n",
              "      <th>4247</th>\n",
              "      <td>Me You and Five Bucks</td>\n",
              "      <td>10.0</td>\n",
              "      <td>2</td>\n",
              "    </tr>\n",
              "    <tr>\n",
              "      <th>4045</th>\n",
              "      <td>Dancer, Texas Pop. 81</td>\n",
              "      <td>10.0</td>\n",
              "      <td>1</td>\n",
              "    </tr>\n",
              "    <tr>\n",
              "      <th>4662</th>\n",
              "      <td>Little Big Top</td>\n",
              "      <td>10.0</td>\n",
              "      <td>1</td>\n",
              "    </tr>\n",
              "    <tr>\n",
              "      <th>3992</th>\n",
              "      <td>Sardaarji</td>\n",
              "      <td>9.5</td>\n",
              "      <td>2</td>\n",
              "    </tr>\n",
              "    <tr>\n",
              "      <th>2386</th>\n",
              "      <td>One Man's Hero</td>\n",
              "      <td>9.3</td>\n",
              "      <td>2</td>\n",
              "    </tr>\n",
              "    <tr>\n",
              "      <th>2970</th>\n",
              "      <td>There Goes My Baby</td>\n",
              "      <td>8.5</td>\n",
              "      <td>2</td>\n",
              "    </tr>\n",
              "    <tr>\n",
              "      <th>1881</th>\n",
              "      <td>The Shawshank Redemption</td>\n",
              "      <td>8.5</td>\n",
              "      <td>8205</td>\n",
              "    </tr>\n",
              "    <tr>\n",
              "      <th>2796</th>\n",
              "      <td>The Prisoner of Zenda</td>\n",
              "      <td>8.4</td>\n",
              "      <td>11</td>\n",
              "    </tr>\n",
              "    <tr>\n",
              "      <th>3337</th>\n",
              "      <td>The Godfather</td>\n",
              "      <td>8.4</td>\n",
              "      <td>5893</td>\n",
              "    </tr>\n",
              "  </tbody>\n",
              "</table>\n",
              "</div>\n",
              "      <button class=\"colab-df-convert\" onclick=\"convertToInteractive('df-fc5588c4-c39f-4686-8f8c-57909d54236d')\"\n",
              "              title=\"Convert this dataframe to an interactive table.\"\n",
              "              style=\"display:none;\">\n",
              "        \n",
              "  <svg xmlns=\"http://www.w3.org/2000/svg\" height=\"24px\"viewBox=\"0 0 24 24\"\n",
              "       width=\"24px\">\n",
              "    <path d=\"M0 0h24v24H0V0z\" fill=\"none\"/>\n",
              "    <path d=\"M18.56 5.44l.94 2.06.94-2.06 2.06-.94-2.06-.94-.94-2.06-.94 2.06-2.06.94zm-11 1L8.5 8.5l.94-2.06 2.06-.94-2.06-.94L8.5 2.5l-.94 2.06-2.06.94zm10 10l.94 2.06.94-2.06 2.06-.94-2.06-.94-.94-2.06-.94 2.06-2.06.94z\"/><path d=\"M17.41 7.96l-1.37-1.37c-.4-.4-.92-.59-1.43-.59-.52 0-1.04.2-1.43.59L10.3 9.45l-7.72 7.72c-.78.78-.78 2.05 0 2.83L4 21.41c.39.39.9.59 1.41.59.51 0 1.02-.2 1.41-.59l7.78-7.78 2.81-2.81c.8-.78.8-2.07 0-2.86zM5.41 20L4 18.59l7.72-7.72 1.47 1.35L5.41 20z\"/>\n",
              "  </svg>\n",
              "      </button>\n",
              "      \n",
              "  <style>\n",
              "    .colab-df-container {\n",
              "      display:flex;\n",
              "      flex-wrap:wrap;\n",
              "      gap: 12px;\n",
              "    }\n",
              "\n",
              "    .colab-df-convert {\n",
              "      background-color: #E8F0FE;\n",
              "      border: none;\n",
              "      border-radius: 50%;\n",
              "      cursor: pointer;\n",
              "      display: none;\n",
              "      fill: #1967D2;\n",
              "      height: 32px;\n",
              "      padding: 0 0 0 0;\n",
              "      width: 32px;\n",
              "    }\n",
              "\n",
              "    .colab-df-convert:hover {\n",
              "      background-color: #E2EBFA;\n",
              "      box-shadow: 0px 1px 2px rgba(60, 64, 67, 0.3), 0px 1px 3px 1px rgba(60, 64, 67, 0.15);\n",
              "      fill: #174EA6;\n",
              "    }\n",
              "\n",
              "    [theme=dark] .colab-df-convert {\n",
              "      background-color: #3B4455;\n",
              "      fill: #D2E3FC;\n",
              "    }\n",
              "\n",
              "    [theme=dark] .colab-df-convert:hover {\n",
              "      background-color: #434B5C;\n",
              "      box-shadow: 0px 1px 3px 1px rgba(0, 0, 0, 0.15);\n",
              "      filter: drop-shadow(0px 1px 2px rgba(0, 0, 0, 0.3));\n",
              "      fill: #FFFFFF;\n",
              "    }\n",
              "  </style>\n",
              "\n",
              "      <script>\n",
              "        const buttonEl =\n",
              "          document.querySelector('#df-fc5588c4-c39f-4686-8f8c-57909d54236d button.colab-df-convert');\n",
              "        buttonEl.style.display =\n",
              "          google.colab.kernel.accessAllowed ? 'block' : 'none';\n",
              "\n",
              "        async function convertToInteractive(key) {\n",
              "          const element = document.querySelector('#df-fc5588c4-c39f-4686-8f8c-57909d54236d');\n",
              "          const dataTable =\n",
              "            await google.colab.kernel.invokeFunction('convertToInteractive',\n",
              "                                                     [key], {});\n",
              "          if (!dataTable) return;\n",
              "\n",
              "          const docLinkHtml = 'Like what you see? Visit the ' +\n",
              "            '<a target=\"_blank\" href=https://colab.research.google.com/notebooks/data_table.ipynb>data table notebook</a>'\n",
              "            + ' to learn more about interactive tables.';\n",
              "          element.innerHTML = '';\n",
              "          dataTable['output_type'] = 'display_data';\n",
              "          await google.colab.output.renderOutput(dataTable, element);\n",
              "          const docLink = document.createElement('div');\n",
              "          docLink.innerHTML = docLinkHtml;\n",
              "          element.appendChild(docLink);\n",
              "        }\n",
              "      </script>\n",
              "    </div>\n",
              "  </div>\n",
              "  "
            ]
          },
          "metadata": {},
          "execution_count": 11
        }
      ]
    },
    {
      "cell_type": "markdown",
      "source": [
        "- '쇼생크 탈출'이나 '대부'같은 명작보다 높은 순위에 이름도 들어본 적 없는 영화가 더 높은 평점을 가짐\n",
        "  - 이들 모두 평가 횟수가 매우 작음\n",
        "  - 이와 같은 왜곡된 평점 데이터를 회피할 수 있도록 평점에 평가 횟수를 반영할 수 있는 새로운 평가 방식 필요"
      ],
      "metadata": {
        "id": "f-uCDLABhcZa"
      }
    },
    {
      "cell_type": "markdown",
      "source": [
        "**가중 평점** <br/>\n",
        "유명한 영화 평점 사이트인 IMDB에서는 평가 횟수에 대한 가중치가 부여된 평점 방식을 사용"
      ],
      "metadata": {
        "id": "THF15u9vhpyb"
      }
    },
    {
      "cell_type": "markdown",
      "source": [
        "![스크린샷 2023-05-15 오후 5.29.11.png](data:image/png;base64,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)"
      ],
      "metadata": {
        "id": "kj_B85J-hwg0"
      }
    },
    {
      "cell_type": "markdown",
      "source": [
        "- v: 개별 영화에 평점을 투표한 횟수\n",
        "  - movies_df의 'vote_count' 값\n",
        "- m: 평점을 부여하기 위한 최소 투표 횟수\n",
        "  - 투표 횟수에 대한 가중치를 직접 조절하는 역할\n",
        "  - m 값을 높이면 평점 투표 횟수가 많은 영화에 더 많은 가중 평점을 부여\n",
        "  - m 값은 전체 투표 횟수에서 상위 60%에 해당하는 횟수를 기준으로 정함\n",
        "  - 상위 60% 값은 Series 객체의 quantile()을 이용해 추출\n",
        "- R: 개별 영화에 대한 평균 평점\n",
        "  - movies_df의 'vote_average' 값\n",
        "- C: 전체 영화에 대한 평균 평점\n",
        "  -  movies_df['vote_average'].mean()으로 구할 수 있음"
      ],
      "metadata": {
        "id": "3wKFC3Yim0e2"
      }
    },
    {
      "cell_type": "code",
      "source": [
        "C = movies_df['vote_average'].mean()\n",
        "m = movies_df['vote_count'].quantile(0.6)\n",
        "print('C:',round(C,3), 'm:',round(m,3))"
      ],
      "metadata": {
        "colab": {
          "base_uri": "https://localhost:8080/"
        },
        "id": "YOLriCKOhbFl",
        "outputId": "7dac5091-0e59-4579-9853-df1aa4ad0c38"
      },
      "execution_count": 12,
      "outputs": [
        {
          "output_type": "stream",
          "name": "stdout",
          "text": [
            "C: 6.092 m: 370.2\n"
          ]
        }
      ]
    },
    {
      "cell_type": "markdown",
      "source": [
        "**새로운 평점 정보 생성** <br/>\n",
        "기존 평점을 새로운 가중 평점으로 변경하는 함수를 생성하고 이를 이용해 새로운 평점 정보 생성\n",
        "- DataFrame의 레코드를 인자로 받아 이 레코드의 vote_count와 vote_averate 칼럼, <br/> 그리고 미리 추출된 m과 C 값을 적용해 레코드별 가중 평점을 반환\n",
        "- 해당 함수를 movies_df의 apply() 함수의 인자로 입력해 가중 평점을 계산"
      ],
      "metadata": {
        "id": "SMECfCftm0WN"
      }
    },
    {
      "cell_type": "code",
      "source": [
        "percentile = 0.6\n",
        "m = movies_df['vote_count'].quantile(percentile)\n",
        "C = movies_df['vote_average'].mean()\n",
        "\n",
        "def weighted_vote_average(record):\n",
        "    v = record['vote_count']\n",
        "    R = record['vote_average']\n",
        "    \n",
        "    return ( (v/(v+m)) * R ) + ( (m/(m+v)) * C )   \n",
        "\n",
        "movies_df['weighted_vote'] = movies_df.apply(weighted_vote_average, axis=1) "
      ],
      "metadata": {
        "id": "R6fvdXa-nc8g"
      },
      "execution_count": 13,
      "outputs": []
    },
    {
      "cell_type": "markdown",
      "source": [
        "**새로운 평점이 높은 순으로 상위 10개의 영화 추출**"
      ],
      "metadata": {
        "id": "PrACmUmjoMGO"
      }
    },
    {
      "cell_type": "code",
      "source": [
        "movies_df[['title','vote_average','weighted_vote','vote_count']].sort_values('weighted_vote',\n",
        "                                                                          ascending=False)[:10]"
      ],
      "metadata": {
        "colab": {
          "base_uri": "https://localhost:8080/",
          "height": 362
        },
        "id": "5O0z8YLIoK2m",
        "outputId": "df806c9d-b7da-4570-94b3-4217717850f4"
      },
      "execution_count": 14,
      "outputs": [
        {
          "output_type": "execute_result",
          "data": {
            "text/plain": [
              "                         title  vote_average  weighted_vote  vote_count\n",
              "1881  The Shawshank Redemption           8.5       8.396052        8205\n",
              "3337             The Godfather           8.4       8.263591        5893\n",
              "662                 Fight Club           8.3       8.216455        9413\n",
              "3232              Pulp Fiction           8.3       8.207102        8428\n",
              "65             The Dark Knight           8.2       8.136930       12002\n",
              "1818          Schindler's List           8.3       8.126069        4329\n",
              "3865                  Whiplash           8.3       8.123248        4254\n",
              "809               Forrest Gump           8.2       8.105954        7927\n",
              "2294             Spirited Away           8.3       8.105867        3840\n",
              "2731    The Godfather: Part II           8.3       8.079586        3338"
            ],
            "text/html": [
              "\n",
              "  <div id=\"df-2249e22e-705e-4096-83e1-ff7dcec2c36a\">\n",
              "    <div class=\"colab-df-container\">\n",
              "      <div>\n",
              "<style scoped>\n",
              "    .dataframe tbody tr th:only-of-type {\n",
              "        vertical-align: middle;\n",
              "    }\n",
              "\n",
              "    .dataframe tbody tr th {\n",
              "        vertical-align: top;\n",
              "    }\n",
              "\n",
              "    .dataframe thead th {\n",
              "        text-align: right;\n",
              "    }\n",
              "</style>\n",
              "<table border=\"1\" class=\"dataframe\">\n",
              "  <thead>\n",
              "    <tr style=\"text-align: right;\">\n",
              "      <th></th>\n",
              "      <th>title</th>\n",
              "      <th>vote_average</th>\n",
              "      <th>weighted_vote</th>\n",
              "      <th>vote_count</th>\n",
              "    </tr>\n",
              "  </thead>\n",
              "  <tbody>\n",
              "    <tr>\n",
              "      <th>1881</th>\n",
              "      <td>The Shawshank Redemption</td>\n",
              "      <td>8.5</td>\n",
              "      <td>8.396052</td>\n",
              "      <td>8205</td>\n",
              "    </tr>\n",
              "    <tr>\n",
              "      <th>3337</th>\n",
              "      <td>The Godfather</td>\n",
              "      <td>8.4</td>\n",
              "      <td>8.263591</td>\n",
              "      <td>5893</td>\n",
              "    </tr>\n",
              "    <tr>\n",
              "      <th>662</th>\n",
              "      <td>Fight Club</td>\n",
              "      <td>8.3</td>\n",
              "      <td>8.216455</td>\n",
              "      <td>9413</td>\n",
              "    </tr>\n",
              "    <tr>\n",
              "      <th>3232</th>\n",
              "      <td>Pulp Fiction</td>\n",
              "      <td>8.3</td>\n",
              "      <td>8.207102</td>\n",
              "      <td>8428</td>\n",
              "    </tr>\n",
              "    <tr>\n",
              "      <th>65</th>\n",
              "      <td>The Dark Knight</td>\n",
              "      <td>8.2</td>\n",
              "      <td>8.136930</td>\n",
              "      <td>12002</td>\n",
              "    </tr>\n",
              "    <tr>\n",
              "      <th>1818</th>\n",
              "      <td>Schindler's List</td>\n",
              "      <td>8.3</td>\n",
              "      <td>8.126069</td>\n",
              "      <td>4329</td>\n",
              "    </tr>\n",
              "    <tr>\n",
              "      <th>3865</th>\n",
              "      <td>Whiplash</td>\n",
              "      <td>8.3</td>\n",
              "      <td>8.123248</td>\n",
              "      <td>4254</td>\n",
              "    </tr>\n",
              "    <tr>\n",
              "      <th>809</th>\n",
              "      <td>Forrest Gump</td>\n",
              "      <td>8.2</td>\n",
              "      <td>8.105954</td>\n",
              "      <td>7927</td>\n",
              "    </tr>\n",
              "    <tr>\n",
              "      <th>2294</th>\n",
              "      <td>Spirited Away</td>\n",
              "      <td>8.3</td>\n",
              "      <td>8.105867</td>\n",
              "      <td>3840</td>\n",
              "    </tr>\n",
              "    <tr>\n",
              "      <th>2731</th>\n",
              "      <td>The Godfather: Part II</td>\n",
              "      <td>8.3</td>\n",
              "      <td>8.079586</td>\n",
              "      <td>3338</td>\n",
              "    </tr>\n",
              "  </tbody>\n",
              "</table>\n",
              "</div>\n",
              "      <button class=\"colab-df-convert\" onclick=\"convertToInteractive('df-2249e22e-705e-4096-83e1-ff7dcec2c36a')\"\n",
              "              title=\"Convert this dataframe to an interactive table.\"\n",
              "              style=\"display:none;\">\n",
              "        \n",
              "  <svg xmlns=\"http://www.w3.org/2000/svg\" height=\"24px\"viewBox=\"0 0 24 24\"\n",
              "       width=\"24px\">\n",
              "    <path d=\"M0 0h24v24H0V0z\" fill=\"none\"/>\n",
              "    <path d=\"M18.56 5.44l.94 2.06.94-2.06 2.06-.94-2.06-.94-.94-2.06-.94 2.06-2.06.94zm-11 1L8.5 8.5l.94-2.06 2.06-.94-2.06-.94L8.5 2.5l-.94 2.06-2.06.94zm10 10l.94 2.06.94-2.06 2.06-.94-2.06-.94-.94-2.06-.94 2.06-2.06.94z\"/><path d=\"M17.41 7.96l-1.37-1.37c-.4-.4-.92-.59-1.43-.59-.52 0-1.04.2-1.43.59L10.3 9.45l-7.72 7.72c-.78.78-.78 2.05 0 2.83L4 21.41c.39.39.9.59 1.41.59.51 0 1.02-.2 1.41-.59l7.78-7.78 2.81-2.81c.8-.78.8-2.07 0-2.86zM5.41 20L4 18.59l7.72-7.72 1.47 1.35L5.41 20z\"/>\n",
              "  </svg>\n",
              "      </button>\n",
              "      \n",
              "  <style>\n",
              "    .colab-df-container {\n",
              "      display:flex;\n",
              "      flex-wrap:wrap;\n",
              "      gap: 12px;\n",
              "    }\n",
              "\n",
              "    .colab-df-convert {\n",
              "      background-color: #E8F0FE;\n",
              "      border: none;\n",
              "      border-radius: 50%;\n",
              "      cursor: pointer;\n",
              "      display: none;\n",
              "      fill: #1967D2;\n",
              "      height: 32px;\n",
              "      padding: 0 0 0 0;\n",
              "      width: 32px;\n",
              "    }\n",
              "\n",
              "    .colab-df-convert:hover {\n",
              "      background-color: #E2EBFA;\n",
              "      box-shadow: 0px 1px 2px rgba(60, 64, 67, 0.3), 0px 1px 3px 1px rgba(60, 64, 67, 0.15);\n",
              "      fill: #174EA6;\n",
              "    }\n",
              "\n",
              "    [theme=dark] .colab-df-convert {\n",
              "      background-color: #3B4455;\n",
              "      fill: #D2E3FC;\n",
              "    }\n",
              "\n",
              "    [theme=dark] .colab-df-convert:hover {\n",
              "      background-color: #434B5C;\n",
              "      box-shadow: 0px 1px 3px 1px rgba(0, 0, 0, 0.15);\n",
              "      filter: drop-shadow(0px 1px 2px rgba(0, 0, 0, 0.3));\n",
              "      fill: #FFFFFF;\n",
              "    }\n",
              "  </style>\n",
              "\n",
              "      <script>\n",
              "        const buttonEl =\n",
              "          document.querySelector('#df-2249e22e-705e-4096-83e1-ff7dcec2c36a button.colab-df-convert');\n",
              "        buttonEl.style.display =\n",
              "          google.colab.kernel.accessAllowed ? 'block' : 'none';\n",
              "\n",
              "        async function convertToInteractive(key) {\n",
              "          const element = document.querySelector('#df-2249e22e-705e-4096-83e1-ff7dcec2c36a');\n",
              "          const dataTable =\n",
              "            await google.colab.kernel.invokeFunction('convertToInteractive',\n",
              "                                                     [key], {});\n",
              "          if (!dataTable) return;\n",
              "\n",
              "          const docLinkHtml = 'Like what you see? Visit the ' +\n",
              "            '<a target=\"_blank\" href=https://colab.research.google.com/notebooks/data_table.ipynb>data table notebook</a>'\n",
              "            + ' to learn more about interactive tables.';\n",
              "          element.innerHTML = '';\n",
              "          dataTable['output_type'] = 'display_data';\n",
              "          await google.colab.output.renderOutput(dataTable, element);\n",
              "          const docLink = document.createElement('div');\n",
              "          docLink.innerHTML = docLinkHtml;\n",
              "          element.appendChild(docLink);\n",
              "        }\n",
              "      </script>\n",
              "    </div>\n",
              "  </div>\n",
              "  "
            ]
          },
          "metadata": {},
          "execution_count": 14
        }
      ]
    },
    {
      "cell_type": "markdown",
      "source": [
        "**새롭게 정의된 평점 기준에 따라 영화 추천** <br/>\n",
        "장르 유사성이 높은 영화를 top_n의 2배수만큼 후보군으로 선정한 뒤에 weighted_vote 칼럼 값이 높은 순으로 top_n 추출\n",
        "- 변경된 find_sim_movie()를 이용해 다시 한번 대부와 유사한 영화를 콘텐츠 기반 필터링 방식으로 추천"
      ],
      "metadata": {
        "id": "b17K-V24oS6a"
      }
    },
    {
      "cell_type": "code",
      "source": [
        "def find_sim_movie(df, sorted_ind, title_name, top_n=10):\n",
        "    title_movie = df[df['title'] == title_name]\n",
        "    title_index = title_movie.index.values\n",
        "    \n",
        "    # top_n의 2배에 해당하는 쟝르 유사성이 높은 index 추출 \n",
        "    similar_indexes = sorted_ind[title_index, :(top_n*2)]\n",
        "    similar_indexes = similar_indexes.reshape(-1)\n",
        "# 기준 영화 index는 제외\n",
        "    similar_indexes = similar_indexes[similar_indexes != title_index]\n",
        "    \n",
        "    # top_n의 2배에 해당하는 후보군에서 weighted_vote 높은 순으로 top_n 만큼 추출 \n",
        "    return df.iloc[similar_indexes].sort_values('weighted_vote', ascending=False)[:top_n]\n",
        "\n",
        "similar_movies = find_sim_movie(movies_df, genre_sim_sorted_ind, 'The Godfather',10)\n",
        "similar_movies[['title', 'vote_average', 'weighted_vote']]"
      ],
      "metadata": {
        "colab": {
          "base_uri": "https://localhost:8080/",
          "height": 362
        },
        "id": "u_q_GHxeoRJO",
        "outputId": "12acc76d-1eb7-4e6a-c53f-fa4c0b9a222c"
      },
      "execution_count": 15,
      "outputs": [
        {
          "output_type": "execute_result",
          "data": {
            "text/plain": [
              "                            title  vote_average  weighted_vote\n",
              "2731       The Godfather: Part II           8.3       8.079586\n",
              "1847                   GoodFellas           8.2       7.976937\n",
              "3866                  City of God           8.1       7.759693\n",
              "1663  Once Upon a Time in America           8.2       7.657811\n",
              "883           Catch Me If You Can           7.7       7.557097\n",
              "281             American Gangster           7.4       7.141396\n",
              "4041              This Is England           7.4       6.739664\n",
              "1149              American Hustle           6.8       6.717525\n",
              "1243                 Mean Streets           7.2       6.626569\n",
              "2839                     Rounders           6.9       6.530427"
            ],
            "text/html": [
              "\n",
              "  <div id=\"df-aec0f24e-eda6-4b78-b952-68eea852c37d\">\n",
              "    <div class=\"colab-df-container\">\n",
              "      <div>\n",
              "<style scoped>\n",
              "    .dataframe tbody tr th:only-of-type {\n",
              "        vertical-align: middle;\n",
              "    }\n",
              "\n",
              "    .dataframe tbody tr th {\n",
              "        vertical-align: top;\n",
              "    }\n",
              "\n",
              "    .dataframe thead th {\n",
              "        text-align: right;\n",
              "    }\n",
              "</style>\n",
              "<table border=\"1\" class=\"dataframe\">\n",
              "  <thead>\n",
              "    <tr style=\"text-align: right;\">\n",
              "      <th></th>\n",
              "      <th>title</th>\n",
              "      <th>vote_average</th>\n",
              "      <th>weighted_vote</th>\n",
              "    </tr>\n",
              "  </thead>\n",
              "  <tbody>\n",
              "    <tr>\n",
              "      <th>2731</th>\n",
              "      <td>The Godfather: Part II</td>\n",
              "      <td>8.3</td>\n",
              "      <td>8.079586</td>\n",
              "    </tr>\n",
              "    <tr>\n",
              "      <th>1847</th>\n",
              "      <td>GoodFellas</td>\n",
              "      <td>8.2</td>\n",
              "      <td>7.976937</td>\n",
              "    </tr>\n",
              "    <tr>\n",
              "      <th>3866</th>\n",
              "      <td>City of God</td>\n",
              "      <td>8.1</td>\n",
              "      <td>7.759693</td>\n",
              "    </tr>\n",
              "    <tr>\n",
              "      <th>1663</th>\n",
              "      <td>Once Upon a Time in America</td>\n",
              "      <td>8.2</td>\n",
              "      <td>7.657811</td>\n",
              "    </tr>\n",
              "    <tr>\n",
              "      <th>883</th>\n",
              "      <td>Catch Me If You Can</td>\n",
              "      <td>7.7</td>\n",
              "      <td>7.557097</td>\n",
              "    </tr>\n",
              "    <tr>\n",
              "      <th>281</th>\n",
              "      <td>American Gangster</td>\n",
              "      <td>7.4</td>\n",
              "      <td>7.141396</td>\n",
              "    </tr>\n",
              "    <tr>\n",
              "      <th>4041</th>\n",
              "      <td>This Is England</td>\n",
              "      <td>7.4</td>\n",
              "      <td>6.739664</td>\n",
              "    </tr>\n",
              "    <tr>\n",
              "      <th>1149</th>\n",
              "      <td>American Hustle</td>\n",
              "      <td>6.8</td>\n",
              "      <td>6.717525</td>\n",
              "    </tr>\n",
              "    <tr>\n",
              "      <th>1243</th>\n",
              "      <td>Mean Streets</td>\n",
              "      <td>7.2</td>\n",
              "      <td>6.626569</td>\n",
              "    </tr>\n",
              "    <tr>\n",
              "      <th>2839</th>\n",
              "      <td>Rounders</td>\n",
              "      <td>6.9</td>\n",
              "      <td>6.530427</td>\n",
              "    </tr>\n",
              "  </tbody>\n",
              "</table>\n",
              "</div>\n",
              "      <button class=\"colab-df-convert\" onclick=\"convertToInteractive('df-aec0f24e-eda6-4b78-b952-68eea852c37d')\"\n",
              "              title=\"Convert this dataframe to an interactive table.\"\n",
              "              style=\"display:none;\">\n",
              "        \n",
              "  <svg xmlns=\"http://www.w3.org/2000/svg\" height=\"24px\"viewBox=\"0 0 24 24\"\n",
              "       width=\"24px\">\n",
              "    <path d=\"M0 0h24v24H0V0z\" fill=\"none\"/>\n",
              "    <path d=\"M18.56 5.44l.94 2.06.94-2.06 2.06-.94-2.06-.94-.94-2.06-.94 2.06-2.06.94zm-11 1L8.5 8.5l.94-2.06 2.06-.94-2.06-.94L8.5 2.5l-.94 2.06-2.06.94zm10 10l.94 2.06.94-2.06 2.06-.94-2.06-.94-.94-2.06-.94 2.06-2.06.94z\"/><path d=\"M17.41 7.96l-1.37-1.37c-.4-.4-.92-.59-1.43-.59-.52 0-1.04.2-1.43.59L10.3 9.45l-7.72 7.72c-.78.78-.78 2.05 0 2.83L4 21.41c.39.39.9.59 1.41.59.51 0 1.02-.2 1.41-.59l7.78-7.78 2.81-2.81c.8-.78.8-2.07 0-2.86zM5.41 20L4 18.59l7.72-7.72 1.47 1.35L5.41 20z\"/>\n",
              "  </svg>\n",
              "      </button>\n",
              "      \n",
              "  <style>\n",
              "    .colab-df-container {\n",
              "      display:flex;\n",
              "      flex-wrap:wrap;\n",
              "      gap: 12px;\n",
              "    }\n",
              "\n",
              "    .colab-df-convert {\n",
              "      background-color: #E8F0FE;\n",
              "      border: none;\n",
              "      border-radius: 50%;\n",
              "      cursor: pointer;\n",
              "      display: none;\n",
              "      fill: #1967D2;\n",
              "      height: 32px;\n",
              "      padding: 0 0 0 0;\n",
              "      width: 32px;\n",
              "    }\n",
              "\n",
              "    .colab-df-convert:hover {\n",
              "      background-color: #E2EBFA;\n",
              "      box-shadow: 0px 1px 2px rgba(60, 64, 67, 0.3), 0px 1px 3px 1px rgba(60, 64, 67, 0.15);\n",
              "      fill: #174EA6;\n",
              "    }\n",
              "\n",
              "    [theme=dark] .colab-df-convert {\n",
              "      background-color: #3B4455;\n",
              "      fill: #D2E3FC;\n",
              "    }\n",
              "\n",
              "    [theme=dark] .colab-df-convert:hover {\n",
              "      background-color: #434B5C;\n",
              "      box-shadow: 0px 1px 3px 1px rgba(0, 0, 0, 0.15);\n",
              "      filter: drop-shadow(0px 1px 2px rgba(0, 0, 0, 0.3));\n",
              "      fill: #FFFFFF;\n",
              "    }\n",
              "  </style>\n",
              "\n",
              "      <script>\n",
              "        const buttonEl =\n",
              "          document.querySelector('#df-aec0f24e-eda6-4b78-b952-68eea852c37d button.colab-df-convert');\n",
              "        buttonEl.style.display =\n",
              "          google.colab.kernel.accessAllowed ? 'block' : 'none';\n",
              "\n",
              "        async function convertToInteractive(key) {\n",
              "          const element = document.querySelector('#df-aec0f24e-eda6-4b78-b952-68eea852c37d');\n",
              "          const dataTable =\n",
              "            await google.colab.kernel.invokeFunction('convertToInteractive',\n",
              "                                                     [key], {});\n",
              "          if (!dataTable) return;\n",
              "\n",
              "          const docLinkHtml = 'Like what you see? Visit the ' +\n",
              "            '<a target=\"_blank\" href=https://colab.research.google.com/notebooks/data_table.ipynb>data table notebook</a>'\n",
              "            + ' to learn more about interactive tables.';\n",
              "          element.innerHTML = '';\n",
              "          dataTable['output_type'] = 'display_data';\n",
              "          await google.colab.output.renderOutput(dataTable, element);\n",
              "          const docLink = document.createElement('div');\n",
              "          docLink.innerHTML = docLinkHtml;\n",
              "          element.appendChild(docLink);\n",
              "        }\n",
              "      </script>\n",
              "    </div>\n",
              "  </div>\n",
              "  "
            ]
          },
          "metadata": {},
          "execution_count": 15
        }
      ]
    },
    {
      "cell_type": "code",
      "source": [],
      "metadata": {
        "id": "Bj9khC9MongJ"
      },
      "execution_count": null,
      "outputs": []
    }
  ]
}